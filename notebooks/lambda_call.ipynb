{
 "cells": [
  {
   "cell_type": "code",
   "execution_count": null,
   "metadata": {},
   "outputs": [
    {
     "data": {
      "text/html": [
       "<pre style=\"white-space:pre;overflow-x:auto;line-height:normal;font-family:Menlo,'DejaVu Sans Mono',consolas,'Courier New',monospace\">This is a test\n",
       "</pre>\n"
      ],
      "text/plain": [
       "This is a test\n"
      ]
     },
     "metadata": {},
     "output_type": "display_data"
    }
   ],
   "source": [
    "import os\n",
    "\n",
    "from dotenv import load_dotenv\n",
    "from openai import OpenAI\n",
    "from rich import print\n",
    "\n",
    "load_dotenv()\n",
    "\n",
    "BASE_URL = \"https://api.lambdalabs.com/v1\"\n",
    "API_KEY = os.getenv(\"LAMBDA_API_KEY\")\n",
    "MODEL_NAME = \"llama3.1-70b-instruct-berkeley\"\n",
    "\n",
    "local_client = OpenAI(base_url=BASE_URL, api_key=API_KEY)\n",
    "\n",
    "chat_completion = local_client.chat.completions.create(\n",
    "    model=MODEL_NAME,\n",
    "    messages=[\n",
    "        {\"role\": \"user\", \"content\": \"Say 'This is a test' without the quotes.\"},\n",
    "    ],\n",
    "    temperature=0.0,\n",
    ")\n",
    "print(chat_completion.choices[0].message.content)"
   ]
  }
 ],
 "metadata": {
  "kernelspec": {
   "display_name": ".venv",
   "language": "python",
   "name": "python3"
  },
  "language_info": {
   "codemirror_mode": {
    "name": "ipython",
    "version": 3
   },
   "file_extension": ".py",
   "mimetype": "text/x-python",
   "name": "python",
   "nbconvert_exporter": "python",
   "pygments_lexer": "ipython3",
   "version": "3.12.7"
  }
 },
 "nbformat": 4,
 "nbformat_minor": 2
}
