{
 "cells": [
  {
   "cell_type": "code",
   "execution_count": 1,
   "metadata": {},
   "outputs": [
    {
     "data": {
      "text/html": [
       "<pre style=\"white-space:pre;overflow-x:auto;line-height:normal;font-family:Menlo,'DejaVu Sans Mono',consolas,'Courier New',monospace\"><span style=\"font-weight: bold\">&lt;</span><span style=\"color: #ff00ff; text-decoration-color: #ff00ff; font-weight: bold\">|start_header_id|</span><span style=\"color: #000000; text-decoration-color: #000000\">&gt;system&lt;|end_header_id|&gt;</span>\n",
       "\n",
       "<span style=\"color: #000000; text-decoration-color: #000000\">Cutting Knowledge Date: December </span><span style=\"color: #008080; text-decoration-color: #008080; font-weight: bold\">2023</span>\n",
       "<span style=\"color: #000000; text-decoration-color: #000000\">Today Date: </span><span style=\"color: #008080; text-decoration-color: #008080; font-weight: bold\">26</span><span style=\"color: #000000; text-decoration-color: #000000\"> Jul </span><span style=\"color: #008080; text-decoration-color: #008080; font-weight: bold\">2024</span>\n",
       "\n",
       "<span style=\"color: #000000; text-decoration-color: #000000\">&lt;|eot_id|&gt;&lt;|start_header_id|&gt;user&lt;|end_header_id|&gt;</span>\n",
       "\n",
       "<span style=\"color: #000000; text-decoration-color: #000000\">Hello!&lt;|eot_id|&gt;&lt;|start_header_id|&gt;assistant&lt;|end_header_id|</span><span style=\"font-weight: bold\">&gt;</span>\n",
       "\n",
       "\n",
       "</pre>\n"
      ],
      "text/plain": [
       "\u001b[1m<\u001b[0m\u001b[1;95m|start_header_id|\u001b[0m\u001b[39m>system<|end_header_id|>\u001b[0m\n",
       "\n",
       "\u001b[39mCutting Knowledge Date: December \u001b[0m\u001b[1;36m2023\u001b[0m\n",
       "\u001b[39mToday Date: \u001b[0m\u001b[1;36m26\u001b[0m\u001b[39m Jul \u001b[0m\u001b[1;36m2024\u001b[0m\n",
       "\n",
       "\u001b[39m<|eot_id|><|start_header_id|>user<|end_header_id|>\u001b[0m\n",
       "\n",
       "\u001b[39mHello!<|eot_id|><|start_header_id|>assistant<|end_header_id|\u001b[0m\u001b[1m>\u001b[0m\n",
       "\n",
       "\n"
      ]
     },
     "metadata": {},
     "output_type": "display_data"
    }
   ],
   "source": [
    "from rich import print\n",
    "\n",
    "from redtransformer.file_utils import load_template\n",
    "\n",
    "chat = load_template(\n",
    "    \"llama3.2_chat_template.jinja\",\n",
    "    messages=[{\"role\": \"user\", \"content\": \"Hello!\"}],\n",
    "    add_generation_prompt=True,\n",
    ")\n",
    "print(chat)"
   ]
  },
  {
   "cell_type": "code",
   "execution_count": 2,
   "metadata": {},
   "outputs": [
    {
     "data": {
      "text/html": [
       "<pre style=\"white-space:pre;overflow-x:auto;line-height:normal;font-family:Menlo,'DejaVu Sans Mono',consolas,'Courier New',monospace\"><span style=\"font-weight: bold\">&lt;</span><span style=\"color: #ff00ff; text-decoration-color: #ff00ff; font-weight: bold\">|start_header_id|</span><span style=\"color: #000000; text-decoration-color: #000000\">&gt;system&lt;|end_header_id|&gt;</span>\n",
       "\n",
       "<span style=\"color: #000000; text-decoration-color: #000000\">Cutting Knowledge Date: December </span><span style=\"color: #008080; text-decoration-color: #008080; font-weight: bold\">2023</span>\n",
       "<span style=\"color: #000000; text-decoration-color: #000000\">Today Date: </span><span style=\"color: #008080; text-decoration-color: #008080; font-weight: bold\">26</span><span style=\"color: #000000; text-decoration-color: #000000\"> Jul </span><span style=\"color: #008080; text-decoration-color: #008080; font-weight: bold\">2024</span>\n",
       "\n",
       "<span style=\"color: #000000; text-decoration-color: #000000\">You are a helpful assistant.&lt;|eot_id|&gt;&lt;|start_header_id|&gt;user&lt;|end_header_id|&gt;</span>\n",
       "\n",
       "<span style=\"color: #000000; text-decoration-color: #000000\">Hello!&lt;|eot_id|&gt;&lt;|start_header_id|&gt;assistant&lt;|end_header_id|</span><span style=\"font-weight: bold\">&gt;</span>\n",
       "\n",
       "\n",
       "</pre>\n"
      ],
      "text/plain": [
       "\u001b[1m<\u001b[0m\u001b[1;95m|start_header_id|\u001b[0m\u001b[39m>system<|end_header_id|>\u001b[0m\n",
       "\n",
       "\u001b[39mCutting Knowledge Date: December \u001b[0m\u001b[1;36m2023\u001b[0m\n",
       "\u001b[39mToday Date: \u001b[0m\u001b[1;36m26\u001b[0m\u001b[39m Jul \u001b[0m\u001b[1;36m2024\u001b[0m\n",
       "\n",
       "\u001b[39mYou are a helpful assistant.<|eot_id|><|start_header_id|>user<|end_header_id|>\u001b[0m\n",
       "\n",
       "\u001b[39mHello!<|eot_id|><|start_header_id|>assistant<|end_header_id|\u001b[0m\u001b[1m>\u001b[0m\n",
       "\n",
       "\n"
      ]
     },
     "metadata": {},
     "output_type": "display_data"
    }
   ],
   "source": [
    "chat = load_template(\n",
    "    \"llama3.2_chat_template.jinja\",\n",
    "    messages=[\n",
    "        {\"role\": \"system\", \"content\": \"You are a helpful assistant.\"},\n",
    "        {\"role\": \"user\", \"content\": \"Hello!\"},\n",
    "    ],\n",
    "    add_generation_prompt=True,\n",
    ")\n",
    "print(chat)"
   ]
  },
  {
   "cell_type": "code",
   "execution_count": null,
   "metadata": {},
   "outputs": [
    {
     "data": {
      "text/html": [
       "<pre style=\"white-space:pre;overflow-x:auto;line-height:normal;font-family:Menlo,'DejaVu Sans Mono',consolas,'Courier New',monospace\"><span style=\"font-weight: bold\">&lt;</span><span style=\"color: #ff00ff; text-decoration-color: #ff00ff; font-weight: bold\">|start_header_id|</span><span style=\"color: #000000; text-decoration-color: #000000\">&gt;system&lt;|end_header_id|&gt;</span>\n",
       "\n",
       "<span style=\"color: #000000; text-decoration-color: #000000\">Cutting Knowledge Date: December </span><span style=\"color: #008080; text-decoration-color: #008080; font-weight: bold\">2023</span>\n",
       "<span style=\"color: #000000; text-decoration-color: #000000\">Today Date: </span><span style=\"color: #008080; text-decoration-color: #008080; font-weight: bold\">26</span><span style=\"color: #000000; text-decoration-color: #000000\"> Jul </span><span style=\"color: #008080; text-decoration-color: #008080; font-weight: bold\">2024</span>\n",
       "\n",
       "<span style=\"color: #000000; text-decoration-color: #000000\">You will be asked a question about the Typst language. It's an</span>\n",
       "<span style=\"color: #000000; text-decoration-color: #000000\">alternative to LaTeX, much faster and more powerful. </span>\n",
       "\n",
       "<span style=\"color: #000000; text-decoration-color: #000000\">Given the following context which comes from a Typst book, answer </span>\n",
       "<span style=\"color: #000000; text-decoration-color: #000000\">the question from the user.</span>\n",
       "\n",
       "<span style=\"color: #000000; text-decoration-color: #000000\">&lt;|start_header_id|&gt;context&lt;|end_header_id|&gt;</span>\n",
       "\n",
       "<span style=\"color: #000000; text-decoration-color: #000000\">Yoyoyo&lt;|eot_id|&gt;&lt;|start_header_id|&gt;user&lt;|end_header_id|&gt;</span>\n",
       "\n",
       "<span style=\"color: #000000; text-decoration-color: #000000\">Hello!&lt;|eot_id|&gt;&lt;|start_header_id|&gt;assistant&lt;|end_header_id|</span><span style=\"font-weight: bold\">&gt;</span>\n",
       "\n",
       "\n",
       "</pre>\n"
      ],
      "text/plain": [
       "\u001b[1m<\u001b[0m\u001b[1;95m|start_header_id|\u001b[0m\u001b[39m>system<|end_header_id|>\u001b[0m\n",
       "\n",
       "\u001b[39mCutting Knowledge Date: December \u001b[0m\u001b[1;36m2023\u001b[0m\n",
       "\u001b[39mToday Date: \u001b[0m\u001b[1;36m26\u001b[0m\u001b[39m Jul \u001b[0m\u001b[1;36m2024\u001b[0m\n",
       "\n",
       "\u001b[39mYou will be asked a question about the Typst language. It's an\u001b[0m\n",
       "\u001b[39malternative to LaTeX, much faster and more powerful. \u001b[0m\n",
       "\n",
       "\u001b[39mGiven the following context which comes from a Typst book, answer \u001b[0m\n",
       "\u001b[39mthe question from the user.\u001b[0m\n",
       "\n",
       "\u001b[39m<|start_header_id|>context<|end_header_id|>\u001b[0m\n",
       "\n",
       "\u001b[39mYoyoyo<|eot_id|><|start_header_id|>user<|end_header_id|>\u001b[0m\n",
       "\n",
       "\u001b[39mHello!<|eot_id|><|start_header_id|>assistant<|end_header_id|\u001b[0m\u001b[1m>\u001b[0m\n",
       "\n",
       "\n"
      ]
     },
     "metadata": {},
     "output_type": "display_data"
    }
   ],
   "source": [
    "system_prompt = load_template(\"typst_rag.jinja\", context=\"Yoyoyo\")\n",
    "chat = load_template(\n",
    "    \"llama3.2_chat_template.jinja\",\n",
    "    messages=[\n",
    "        {\"role\": \"system\", \"content\": system_prompt},\n",
    "        {\"role\": \"user\", \"content\": \"Hello!\"},\n",
    "    ],\n",
    "    add_generation_prompt=True,\n",
    ")\n",
    "print(chat)"
   ]
  }
 ],
 "metadata": {
  "kernelspec": {
   "display_name": ".venv",
   "language": "python",
   "name": "python3"
  },
  "language_info": {
   "codemirror_mode": {
    "name": "ipython",
    "version": 3
   },
   "file_extension": ".py",
   "mimetype": "text/x-python",
   "name": "python",
   "nbconvert_exporter": "python",
   "pygments_lexer": "ipython3",
   "version": "3.12.7"
  }
 },
 "nbformat": 4,
 "nbformat_minor": 2
}
